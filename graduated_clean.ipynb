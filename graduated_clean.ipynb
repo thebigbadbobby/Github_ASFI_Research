{
 "cells": [
  {
   "cell_type": "code",
   "execution_count": 7,
   "metadata": {},
   "outputs": [],
   "source": [
    "import pandas as pd"
   ]
  },
  {
   "cell_type": "code",
   "execution_count": 1,
   "metadata": {},
   "outputs": [],
   "source": [
    "def get_from_file(filename):\n",
    "    with open(filename, 'r') as test_file:\n",
    "        full_file=test_file.read()\n",
    "    return full_file"
   ]
  },
  {
   "cell_type": "code",
   "execution_count": 2,
   "metadata": {},
   "outputs": [],
   "source": [
    "def provide_attribute(name, project_info):\n",
    "    try:\n",
    "        start_index=project_info.index(name+'=\"')+len(name+'=\"')\n",
    "        end_index=project_info[start_index:].index('\"')+start_index\n",
    "        return project_info[start_index:end_index]\n",
    "    except:\n",
    "        return \"N/A\"\n"
   ]
  },
  {
   "cell_type": "code",
   "execution_count": 3,
   "metadata": {},
   "outputs": [],
   "source": [
    "project_successes=[]\n",
    "project_info=get_from_file(\"graduated.txt\")"
   ]
  },
  {
   "cell_type": "code",
   "execution_count": 4,
   "metadata": {},
   "outputs": [
    {
     "name": "stdout",
     "output_type": "stream",
     "text": [
      "25\n",
      "50\n",
      "75\n",
      "100\n",
      "125\n",
      "150\n",
      "175\n",
      "200\n",
      "225\n",
      "250\n",
      "275\n",
      "300\n",
      "325\n"
     ]
    }
   ],
   "source": [
    "i=0\n",
    "while '<podling' in project_info:\n",
    "    i+=1\n",
    "    if i%25==0:\n",
    "        print(i)\n",
    "    indiv_project_stats=[provide_attribute(\"name\", project_info),\n",
    "                provide_attribute(\"status\", project_info),\n",
    "                provide_attribute(\"startdate\", project_info),\n",
    "                provide_attribute(\"enddate\", project_info)\n",
    "                ]\n",
    "    project_successes.append(indiv_project_stats)\n",
    "    project_info=project_info[project_info.index(\"</podling>\")+len(\"</podling>\"):]"
   ]
  },
  {
   "cell_type": "code",
   "execution_count": 19,
   "metadata": {},
   "outputs": [],
   "source": [
    "full_data=pd.DataFrame(project_successes)\n",
    "full_data.columns = ['name','status', 'startdate','enddate']"
   ]
  },
  {
   "cell_type": "code",
   "execution_count": 22,
   "metadata": {},
   "outputs": [],
   "source": [
    "full_data.to_csv(\"graduated.csv\")"
   ]
  },
  {
   "cell_type": "code",
   "execution_count": null,
   "metadata": {},
   "outputs": [],
   "source": [
    "status=graduated"
   ]
  }
 ],
 "metadata": {
  "kernelspec": {
   "display_name": "Python 3",
   "language": "python",
   "name": "python3"
  },
  "language_info": {
   "codemirror_mode": {
    "name": "ipython",
    "version": 3
   },
   "file_extension": ".py",
   "mimetype": "text/x-python",
   "name": "python",
   "nbconvert_exporter": "python",
   "pygments_lexer": "ipython3",
   "version": "3.11.6"
  }
 },
 "nbformat": 4,
 "nbformat_minor": 2
}
